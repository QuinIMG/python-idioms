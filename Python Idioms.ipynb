{
 "cells": [
  {
   "cell_type": "markdown",
   "metadata": {
    "slideshow": {
     "slide_type": "slide"
    }
   },
   "source": [
    "# Python Idioms"
   ]
  },
  {
   "cell_type": "markdown",
   "metadata": {
    "slideshow": {
     "slide_type": "slide"
    }
   },
   "source": [
    "# Introduction\n"
   ]
  },
  {
   "cell_type": "markdown",
   "metadata": {
    "slideshow": {
     "slide_type": "notes"
    }
   },
   "source": [
    "1. Introduce yourself\n",
    "\n",
    "2. Describe my experience as a Python beginner\n",
    "  \n",
    "  - Questions are welcome!\n",
    "\n",
    "3. What is an idiom?\n",
    "\n",
    "Segue into what an idiom is. In language, an idiom is like a saying or figure of speech."
   ]
  },
  {
   "cell_type": "markdown",
   "metadata": {
    "slideshow": {
     "slide_type": "slide"
    }
   },
   "source": [
    "## What is an idiom?"
   ]
  },
  {
   "cell_type": "markdown",
   "metadata": {
    "slideshow": {
     "slide_type": "fragment"
    }
   },
   "source": [
    "#### *\"...the usual way to code a task in a specific language.\"*\n",
    "\n",
    "Source: https://stackoverflow.com/questions/302459/what-is-a-programming-idiom"
   ]
  },
  {
   "cell_type": "markdown",
   "metadata": {
    "slideshow": {
     "slide_type": "slide"
    }
   },
   "source": [
    "# Convention: Two Approaches"
   ]
  },
  {
   "cell_type": "markdown",
   "metadata": {
    "slideshow": {
     "slide_type": "notes"
    }
   },
   "source": [
    "Introduce the structure of the presentation"
   ]
  },
  {
   "cell_type": "markdown",
   "metadata": {
    "slideshow": {
     "slide_type": "fragment"
    }
   },
   "source": [
    "## Approach 1: basic solution"
   ]
  },
  {
   "cell_type": "markdown",
   "metadata": {
    "slideshow": {
     "slide_type": "notes"
    }
   },
   "source": [
    "This is what people may try first when learning Python for the first time"
   ]
  },
  {
   "cell_type": "markdown",
   "metadata": {
    "slideshow": {
     "slide_type": "fragment"
    }
   },
   "source": [
    "## Approach 2: \"pythonic\" solution"
   ]
  },
  {
   "cell_type": "markdown",
   "metadata": {
    "slideshow": {
     "slide_type": "notes"
    }
   },
   "source": [
    "This is the idiomatic approach to the task"
   ]
  },
  {
   "cell_type": "markdown",
   "metadata": {
    "slideshow": {
     "slide_type": "notes"
    }
   },
   "source": [
    "It's not wrong to use Approach 1!"
   ]
  },
  {
   "cell_type": "markdown",
   "metadata": {
    "slideshow": {
     "slide_type": "slide"
    }
   },
   "source": [
    "Both approaches achieve the same goal..."
   ]
  },
  {
   "cell_type": "markdown",
   "metadata": {
    "slideshow": {
     "slide_type": "fragment"
    }
   },
   "source": [
    "...but using Approach 2 may"
   ]
  },
  {
   "cell_type": "markdown",
   "metadata": {
    "slideshow": {
     "slide_type": "fragment"
    }
   },
   "source": [
    "- improve readability"
   ]
  },
  {
   "cell_type": "markdown",
   "metadata": {
    "slideshow": {
     "slide_type": "notes"
    }
   },
   "source": [
    "Simpler, easier to read"
   ]
  },
  {
   "cell_type": "markdown",
   "metadata": {
    "slideshow": {
     "slide_type": "fragment"
    }
   },
   "source": [
    "- save time (programming time and running time)"
   ]
  },
  {
   "cell_type": "markdown",
   "metadata": {
    "slideshow": {
     "slide_type": "notes"
    }
   },
   "source": [
    "Use builtin modules!\n",
    "\n",
    "Less time reinventing the wheel, plus an optimized solution may already exist"
   ]
  },
  {
   "cell_type": "markdown",
   "metadata": {
    "slideshow": {
     "slide_type": "fragment"
    }
   },
   "source": [
    "- earn hacker cred 😎"
   ]
  },
  {
   "cell_type": "markdown",
   "metadata": {
    "slideshow": {
     "slide_type": "notes"
    }
   },
   "source": [
    "People spend more time reading code than writing it!\n",
    "\n",
    "Everyone appreciates elegant code.\n",
    "\n",
    "Nothing's cooler than a savvy coder 😉"
   ]
  },
  {
   "cell_type": "markdown",
   "metadata": {
    "slideshow": {
     "slide_type": "slide"
    }
   },
   "source": [
    "# Topics"
   ]
  },
  {
   "cell_type": "markdown",
   "metadata": {
    "slideshow": {
     "slide_type": "fragment"
    }
   },
   "source": [
    "Variables"
   ]
  },
  {
   "cell_type": "markdown",
   "metadata": {
    "slideshow": {
     "slide_type": "fragment"
    }
   },
   "source": [
    "Collections"
   ]
  },
  {
   "cell_type": "markdown",
   "metadata": {
    "slideshow": {
     "slide_type": "fragment"
    }
   },
   "source": [
    "Strings"
   ]
  },
  {
   "cell_type": "markdown",
   "metadata": {
    "slideshow": {
     "slide_type": "notes"
    }
   },
   "source": [
    "In each topic, I'll introduce a common task and show each Approach.\n",
    "\n",
    "I've tried to find idioms that appear in later version of Python 2, and all versions of Python 3 unless otherwise stated."
   ]
  },
  {
   "cell_type": "markdown",
   "metadata": {
    "slideshow": {
     "slide_type": "slide"
    }
   },
   "source": [
    "# Variables\n",
    "\n",
    "## Task: Unpacking a sequence"
   ]
  },
  {
   "cell_type": "markdown",
   "metadata": {
    "slideshow": {
     "slide_type": "slide"
    }
   },
   "source": [
    "# Task: Unpacking a sequence\n",
    "\n",
    "## Approach 1\n",
    "\n",
    "Use the index operator repeatedly"
   ]
  },
  {
   "cell_type": "code",
   "execution_count": 1,
   "metadata": {
    "slideshow": {
     "slide_type": "fragment"
    }
   },
   "outputs": [],
   "source": [
    "lst = ['a', 'b', 'c', 'd']    # ordered, mutable collection\n",
    "\n",
    "foo = lst[0]\n",
    "bar = lst[1]\n",
    "baz = lst[-1] # what does -1 mean? More on that later..."
   ]
  },
  {
   "cell_type": "markdown",
   "metadata": {
    "slideshow": {
     "slide_type": "notes"
    }
   },
   "source": [
    "Question: What are the values of each variable going to be?"
   ]
  },
  {
   "cell_type": "code",
   "execution_count": 2,
   "metadata": {
    "scrolled": true,
    "slideshow": {
     "slide_type": "fragment"
    }
   },
   "outputs": [
    {
     "name": "stdout",
     "output_type": "stream",
     "text": [
      "a b d\n"
     ]
    }
   ],
   "source": [
    "print(foo, bar, baz)"
   ]
  },
  {
   "cell_type": "markdown",
   "metadata": {
    "slideshow": {
     "slide_type": "notes"
    }
   },
   "source": [
    "This works fine for a few elements, but what if you want many elements?"
   ]
  },
  {
   "cell_type": "markdown",
   "metadata": {
    "slideshow": {
     "slide_type": "slide"
    }
   },
   "source": [
    "# Task: Unpacking a sequence\n",
    "\n",
    "## Approach 2\n",
    "\n",
    "Use _ to discard unwanted elements"
   ]
  },
  {
   "cell_type": "markdown",
   "metadata": {
    "slideshow": {
     "slide_type": "notes"
    }
   },
   "source": [
    "This is a throwback to Justin's presentation on underscores in Python!\n",
    "\n",
    "The `_` variable is a real variable like any other in Python, but conventionally, it's used to discard objects we don't care about."
   ]
  },
  {
   "cell_type": "code",
   "execution_count": 3,
   "metadata": {
    "slideshow": {
     "slide_type": "fragment"
    }
   },
   "outputs": [],
   "source": [
    "lst = ['a', 'b', 'c', 'd']\n",
    "\n",
    "foo, bar, _, baz = lst # ignore the elements after bar and before baz"
   ]
  },
  {
   "cell_type": "code",
   "execution_count": 4,
   "metadata": {
    "slideshow": {
     "slide_type": "fragment"
    }
   },
   "outputs": [
    {
     "name": "stdout",
     "output_type": "stream",
     "text": [
      "a b d\n",
      "c\n"
     ]
    }
   ],
   "source": [
    "print(foo, bar, baz)\n",
    "\n",
    "print(_)"
   ]
  },
  {
   "cell_type": "markdown",
   "metadata": {
    "slideshow": {
     "slide_type": "notes"
    }
   },
   "source": [
    "More accurately, the \"ignored\" value is assigned to \\_. You can use it just like any other variable, technically.\n",
    "\n",
    "A common idiom is to use \\_ to ignore a value returned by a function if it isn't needed."
   ]
  },
  {
   "cell_type": "markdown",
   "metadata": {
    "slideshow": {
     "slide_type": "slide"
    }
   },
   "source": [
    "What if you want to unpack single and multiple elements?"
   ]
  },
  {
   "cell_type": "code",
   "execution_count": 5,
   "metadata": {
    "slideshow": {
     "slide_type": "fragment"
    }
   },
   "outputs": [],
   "source": [
    "lst = ['a', 'b', 'c', 'd']\n",
    "\n",
    "foo, *bar, baz = lst # unpack single elements and ranges within lst"
   ]
  },
  {
   "cell_type": "code",
   "execution_count": 6,
   "metadata": {
    "slideshow": {
     "slide_type": "fragment"
    }
   },
   "outputs": [
    {
     "name": "stdout",
     "output_type": "stream",
     "text": [
      "a d\n",
      "['b', 'c']\n"
     ]
    },
    {
     "data": {
      "text/plain": [
       "list"
      ]
     },
     "execution_count": 6,
     "metadata": {},
     "output_type": "execute_result"
    }
   ],
   "source": [
    "print(foo, baz)\n",
    "\n",
    "print(bar)\n",
    "\n",
    "type(bar)"
   ]
  },
  {
   "cell_type": "markdown",
   "metadata": {
    "slideshow": {
     "slide_type": "notes"
    }
   },
   "source": [
    "Use the \\* operator for sequences of elements (e.g. lists)\n",
    "\n",
    "Use the \\*\\* operator to unpack collections of name-value pairs (e.g. dictionaries) in special circumstances (function arguments)"
   ]
  },
  {
   "cell_type": "markdown",
   "metadata": {
    "slideshow": {
     "slide_type": "slide"
    }
   },
   "source": [
    "# Variables\n",
    "\n",
    "## Task: Swapping two objects"
   ]
  },
  {
   "cell_type": "markdown",
   "metadata": {
    "slideshow": {
     "slide_type": "slide"
    }
   },
   "source": [
    "# Task: Swapping two objects\n",
    "\n",
    "## Approach 1\n",
    "\n",
    "Use a temporary variable"
   ]
  },
  {
   "cell_type": "markdown",
   "metadata": {
    "slideshow": {
     "slide_type": "notes"
    }
   },
   "source": [
    "In most languages I've worked with, this is the only way to swap two objects"
   ]
  },
  {
   "cell_type": "code",
   "execution_count": 7,
   "metadata": {
    "slideshow": {
     "slide_type": "fragment"
    }
   },
   "outputs": [],
   "source": [
    "a, b = 1, 2\n",
    "\n",
    "temp = a\n",
    "a    = b\n",
    "b    = temp"
   ]
  },
  {
   "cell_type": "code",
   "execution_count": 8,
   "metadata": {
    "slideshow": {
     "slide_type": "fragment"
    }
   },
   "outputs": [
    {
     "name": "stdout",
     "output_type": "stream",
     "text": [
      "2 1\n"
     ]
    }
   ],
   "source": [
    "print(a, b)"
   ]
  },
  {
   "cell_type": "markdown",
   "metadata": {
    "slideshow": {
     "slide_type": "slide"
    }
   },
   "source": [
    "# Task: Swapping two objects\n",
    "\n",
    "## Approach 2\n",
    "\n",
    "Unpack the variables in reverse"
   ]
  },
  {
   "cell_type": "code",
   "execution_count": 9,
   "metadata": {
    "slideshow": {
     "slide_type": "fragment"
    }
   },
   "outputs": [],
   "source": [
    "a, b = 1, 2\n",
    "\n",
    "a, b = b, a"
   ]
  },
  {
   "cell_type": "code",
   "execution_count": 10,
   "metadata": {
    "slideshow": {
     "slide_type": "fragment"
    }
   },
   "outputs": [
    {
     "name": "stdout",
     "output_type": "stream",
     "text": [
      "2 1\n"
     ]
    }
   ],
   "source": [
    "print(a, b)"
   ]
  },
  {
   "cell_type": "markdown",
   "metadata": {
    "slideshow": {
     "slide_type": "notes"
    }
   },
   "source": [
    "You could swap 2+ variables this way!"
   ]
  },
  {
   "cell_type": "markdown",
   "metadata": {
    "slideshow": {
     "slide_type": "slide"
    }
   },
   "source": [
    "# Variables\n",
    "\n",
    "## Task: Testing a single variable"
   ]
  },
  {
   "cell_type": "markdown",
   "metadata": {
    "slideshow": {
     "slide_type": "notes"
    }
   },
   "source": [
    "By testing, I mean checking the variable for some true/false condition"
   ]
  },
  {
   "cell_type": "markdown",
   "metadata": {
    "slideshow": {
     "slide_type": "slide"
    }
   },
   "source": [
    "# Task: Testing a single variable\n",
    "\n",
    "## Approach 1\n",
    "\n",
    "Check for equality"
   ]
  },
  {
   "cell_type": "code",
   "execution_count": 11,
   "metadata": {
    "slideshow": {
     "slide_type": "fragment"
    }
   },
   "outputs": [
    {
     "name": "stdout",
     "output_type": "stream",
     "text": [
      "x is non-zero\n"
     ]
    }
   ],
   "source": [
    "x = 1\n",
    "\n",
    "if x != 0:\n",
    "    print('x is non-zero')\n",
    "else:\n",
    "    print('x is zero')"
   ]
  },
  {
   "cell_type": "markdown",
   "metadata": {
    "slideshow": {
     "slide_type": "slide"
    }
   },
   "source": [
    "# Task: Testing a single variable\n",
    "\n",
    "## Approach 2\n",
    "\n",
    "Check the object's \"truthy/falsy\" value"
   ]
  },
  {
   "cell_type": "markdown",
   "metadata": {
    "slideshow": {
     "slide_type": "notes"
    }
   },
   "source": [
    "Truthy/falsy is the pythonic way of describing objects that evaluate to true/false in a special way"
   ]
  },
  {
   "cell_type": "code",
   "execution_count": 12,
   "metadata": {
    "slideshow": {
     "slide_type": "fragment"
    }
   },
   "outputs": [
    {
     "name": "stdout",
     "output_type": "stream",
     "text": [
      "x is non-zero\n"
     ]
    }
   ],
   "source": [
    "x = 1\n",
    "\n",
    "if x:\n",
    "    print('x is non-zero')\n",
    "else:\n",
    "    print('x is zero')"
   ]
  },
  {
   "cell_type": "markdown",
   "metadata": {
    "slideshow": {
     "slide_type": "fragment"
    }
   },
   "source": [
    "\"*By default, an object is considered true unless its class defines either a `__bool__()` method that returns False or a `__len__()` method that returns zero, when called with the object.*\"\n",
    "\n",
    "Source: https://docs.python.org/3/library/stdtypes.html#truth-value-testing"
   ]
  },
  {
   "cell_type": "markdown",
   "metadata": {
    "slideshow": {
     "slide_type": "slide"
    }
   },
   "source": [
    "What if you want to test a collection?"
   ]
  },
  {
   "cell_type": "code",
   "execution_count": 13,
   "metadata": {
    "slideshow": {
     "slide_type": "fragment"
    }
   },
   "outputs": [
    {
     "name": "stdout",
     "output_type": "stream",
     "text": [
      "tup is non-empty\n"
     ]
    }
   ],
   "source": [
    "tup = (1,2,3,4) # an ordered, immutable sequence\n",
    "\n",
    "if tup: # the same as `if len(tup) != 0: ...`\n",
    "    print('tup is non-empty')\n",
    "else:\n",
    "    print('tup is empty')"
   ]
  },
  {
   "cell_type": "markdown",
   "metadata": {
    "slideshow": {
     "slide_type": "notes"
    }
   },
   "source": [
    "This is how to test a collection, but what about testing the items inside it?\n",
    "\n",
    "Segue into topic II..."
   ]
  },
  {
   "cell_type": "markdown",
   "metadata": {
    "slideshow": {
     "slide_type": "slide"
    }
   },
   "source": [
    "# Collections"
   ]
  },
  {
   "cell_type": "markdown",
   "metadata": {
    "slideshow": {
     "slide_type": "notes"
    }
   },
   "source": [
    "Typical collections include lists, tuples, and dictionaries."
   ]
  },
  {
   "cell_type": "markdown",
   "metadata": {
    "slideshow": {
     "slide_type": "slide"
    }
   },
   "source": [
    "# Collections\n",
    "\n",
    "## Task: Testing all objects in a collection"
   ]
  },
  {
   "cell_type": "markdown",
   "metadata": {
    "slideshow": {
     "slide_type": "notes"
    }
   },
   "source": [
    "Like before, this means testing an object for some true/false condition"
   ]
  },
  {
   "cell_type": "markdown",
   "metadata": {
    "slideshow": {
     "slide_type": "slide"
    }
   },
   "source": [
    "# Task: Testing all objects in a collection\n",
    "\n",
    "## Approach 1\n",
    "\n",
    "Use a loop"
   ]
  },
  {
   "cell_type": "markdown",
   "metadata": {
    "slideshow": {
     "slide_type": "notes"
    }
   },
   "source": [
    "Let's assume we want to check if at least one object meets the desired condition."
   ]
  },
  {
   "cell_type": "code",
   "execution_count": 14,
   "metadata": {
    "slideshow": {
     "slide_type": "fragment"
    }
   },
   "outputs": [
    {
     "name": "stdout",
     "output_type": "stream",
     "text": [
      "Found a non-zero element\n"
     ]
    }
   ],
   "source": [
    "tup = (0, 0, 1, 0)\n",
    "\n",
    "found_non_zero_element = False\n",
    "\n",
    "for element in tup:\n",
    "    if element:\n",
    "        found_non_zero_element = True\n",
    "        break\n",
    "\n",
    "if found_non_zero_element:\n",
    "    print('Found a non-zero element')\n",
    "else:\n",
    "    print('tup is empty or only contains zeroes')"
   ]
  },
  {
   "cell_type": "markdown",
   "metadata": {
    "slideshow": {
     "slide_type": "slide"
    }
   },
   "source": [
    "# Task: Testing all objects in a collection\n",
    "\n",
    "## Approach 2\n",
    "\n",
    "Use the `any()` function"
   ]
  },
  {
   "cell_type": "markdown",
   "metadata": {
    "slideshow": {
     "slide_type": "notes"
    }
   },
   "source": [
    "No need to write boilerplate `for` loops for this task"
   ]
  },
  {
   "cell_type": "code",
   "execution_count": 15,
   "metadata": {
    "slideshow": {
     "slide_type": "fragment"
    }
   },
   "outputs": [
    {
     "name": "stdout",
     "output_type": "stream",
     "text": [
      "Found a non-zero element\n"
     ]
    }
   ],
   "source": [
    "tup = (0, 0, 1, 0)\n",
    "\n",
    "if any(tup):\n",
    "    print('Found a non-zero element')\n",
    "else:\n",
    "    print('Only zeroes in tup')"
   ]
  },
  {
   "cell_type": "markdown",
   "metadata": {
    "slideshow": {
     "slide_type": "slide"
    }
   },
   "source": [
    "Conversely, using `all()` will return true if and only if **all** elements evaluate to `True`"
   ]
  },
  {
   "cell_type": "code",
   "execution_count": 16,
   "metadata": {
    "scrolled": true,
    "slideshow": {
     "slide_type": "fragment"
    }
   },
   "outputs": [
    {
     "name": "stdout",
     "output_type": "stream",
     "text": [
      "At least one element in tup is zero\n"
     ]
    }
   ],
   "source": [
    "tup = (0, 0, 1, 0)\n",
    "\n",
    "if all(tup):\n",
    "    print('All elements in tup are non-zero')\n",
    "else:\n",
    "    print('At least one element in tup is zero')"
   ]
  },
  {
   "cell_type": "markdown",
   "metadata": {
    "slideshow": {
     "slide_type": "notes"
    }
   },
   "source": [
    "There are ways to use `any()` and `all()` with any boolean condition..."
   ]
  },
  {
   "cell_type": "markdown",
   "metadata": {
    "slideshow": {
     "slide_type": "slide"
    }
   },
   "source": [
    "# Collections\n",
    "\n",
    "## Task: Enumerating a sequence"
   ]
  },
  {
   "cell_type": "markdown",
   "metadata": {
    "slideshow": {
     "slide_type": "notes"
    }
   },
   "source": [
    "This means iterating each object in a sequence while keeping count or index position in mind.\n",
    "\n",
    "Compare to getting each object without caring about index or count..."
   ]
  },
  {
   "cell_type": "markdown",
   "metadata": {
    "slideshow": {
     "slide_type": "slide"
    }
   },
   "source": [
    "# Task: Enumerating a sequence\n",
    "\n",
    "## Approach 1\n",
    "Manually set an index variable"
   ]
  },
  {
   "cell_type": "code",
   "execution_count": 17,
   "metadata": {
    "slideshow": {
     "slide_type": "fragment"
    }
   },
   "outputs": [
    {
     "name": "stdout",
     "output_type": "stream",
     "text": [
      "index : value\n",
      "0 : 7\n",
      "1 : 8\n",
      "2 : 9\n"
     ]
    }
   ],
   "source": [
    "some_list = [7, 8, 9]\n",
    "\n",
    "print(\"index\", \":\", \"value\")\n",
    "for index in range(len(some_list)):\n",
    "    print(index, \":\", some_list[index])\n"
   ]
  },
  {
   "cell_type": "markdown",
   "metadata": {
    "slideshow": {
     "slide_type": "notes"
    }
   },
   "source": [
    "Manually incrementing an index variable is risky.\n",
    "\n",
    "Many languages support `for (i=0; i < len(some_list); ++i) { ... }` syntax, but Python takes a different approach..."
   ]
  },
  {
   "cell_type": "markdown",
   "metadata": {
    "slideshow": {
     "slide_type": "slide"
    }
   },
   "source": [
    "# Task: Enumerating a sequence\n",
    "\n",
    "## Approach 2\n",
    "Use the `enumerate()` function"
   ]
  },
  {
   "cell_type": "code",
   "execution_count": 18,
   "metadata": {
    "scrolled": true,
    "slideshow": {
     "slide_type": "fragment"
    }
   },
   "outputs": [
    {
     "name": "stdout",
     "output_type": "stream",
     "text": [
      "index : value\n",
      "0 : 7\n",
      "1 : 8\n",
      "2 : 9\n"
     ]
    }
   ],
   "source": [
    "some_list = [7, 8, 9]\n",
    "\n",
    "print(\"index\", \":\", \"value\")\n",
    "for index, value in enumerate(some_list):\n",
    "    print(index, \":\", value)\n"
   ]
  },
  {
   "cell_type": "markdown",
   "metadata": {
    "slideshow": {
     "slide_type": "fragment"
    }
   },
   "source": [
    "*\"`enumerate(thing)`, where `thing` is either an iterator or a sequence, returns a iterator that will return `(0, thing[0])`, `(1, thing[1])`, `(2, thing[2])`, and so forth.\"*\n",
    "\n",
    "Source: https://docs.python.org/2.3/whatsnew/section-enumerate.html"
   ]
  },
  {
   "cell_type": "markdown",
   "metadata": {
    "slideshow": {
     "slide_type": "slide"
    }
   },
   "source": [
    "What if you don't need an index variable?"
   ]
  },
  {
   "cell_type": "code",
   "execution_count": 19,
   "metadata": {
    "slideshow": {
     "slide_type": "fragment"
    }
   },
   "outputs": [
    {
     "name": "stdout",
     "output_type": "stream",
     "text": [
      "7\n",
      "8\n",
      "9\n"
     ]
    }
   ],
   "source": [
    "some_list = [7, 8, 9]\n",
    "\n",
    "for value in some_list:\n",
    "    print(value)"
   ]
  },
  {
   "cell_type": "markdown",
   "metadata": {
    "slideshow": {
     "slide_type": "notes"
    }
   },
   "source": [
    "We've already seen this kind of `for` loop several times in this presentation"
   ]
  },
  {
   "cell_type": "markdown",
   "metadata": {
    "slideshow": {
     "slide_type": "slide"
    }
   },
   "source": [
    "# Collections\n",
    "\n",
    "## Task: Get a subset of a sequence"
   ]
  },
  {
   "cell_type": "markdown",
   "metadata": {
    "slideshow": {
     "slide_type": "notes"
    }
   },
   "source": [
    "Here, let's assume we know the start and end positions of our subset within the original sequence."
   ]
  },
  {
   "cell_type": "markdown",
   "metadata": {
    "slideshow": {
     "slide_type": "slide"
    }
   },
   "source": [
    "# Task: Get a subset of a sequence\n",
    "\n",
    "## Approach 1\n",
    "Use a loop"
   ]
  },
  {
   "cell_type": "code",
   "execution_count": 20,
   "metadata": {
    "slideshow": {
     "slide_type": "fragment"
    }
   },
   "outputs": [
    {
     "name": "stdout",
     "output_type": "stream",
     "text": [
      "['george', 'julie', 'stan']\n"
     ]
    }
   ],
   "source": [
    "names = [\"bob\", \"sue\", \"george\", \"julie\", \"stan\", \"martha\", \"leo\"]\n",
    "subset = []\n",
    "\n",
    "start = 2\n",
    "end = 5\n",
    "\n",
    "for current_index in range(start, end): # range gives the values start, start+1, start+2, ..., end-1\n",
    "    subset.append(names[current_index])\n",
    "\n",
    "print(subset)"
   ]
  },
  {
   "cell_type": "markdown",
   "metadata": {
    "slideshow": {
     "slide_type": "slide"
    }
   },
   "source": [
    "# Task: Get a subset of a sequence\n",
    "\n",
    "## Approach 2\n",
    "Slice the collection"
   ]
  },
  {
   "cell_type": "code",
   "execution_count": 21,
   "metadata": {
    "slideshow": {
     "slide_type": "fragment"
    }
   },
   "outputs": [
    {
     "name": "stdout",
     "output_type": "stream",
     "text": [
      "['george', 'julie', 'stan']\n"
     ]
    }
   ],
   "source": [
    "names = [\"bob\", \"sue\", \"george\", \"julie\", \"stan\", \"martha\", \"leo\"]\n",
    "\n",
    "start = 2\n",
    "end = 5\n",
    "\n",
    "subset = names[start:end] # equivalent to names[slice(2, 5)]\n",
    "\n",
    "print(subset)"
   ]
  },
  {
   "cell_type": "markdown",
   "metadata": {
    "slideshow": {
     "slide_type": "notes"
    }
   },
   "source": [
    "You can also create slice objects using `slice()`, but it's more common to use the shorthand shown above"
   ]
  },
  {
   "cell_type": "markdown",
   "metadata": {
    "slideshow": {
     "slide_type": "slide"
    }
   },
   "source": [
    "How do slices work?\n",
    "\n",
    "Like the `range()` function, `slice` accepts three parameters:\n",
    "\n",
    "- start\n",
    "- stop (exclusive)\n",
    "- step"
   ]
  },
  {
   "cell_type": "code",
   "execution_count": 22,
   "metadata": {
    "slideshow": {
     "slide_type": "slide"
    }
   },
   "outputs": [
    {
     "name": "stdout",
     "output_type": "stream",
     "text": [
      "original list: ['bob', 'sue', 'george', 'julie', 'stan', 'martha', 'leo']\n",
      "\n",
      "items start through stop-1: ['george', 'julie', 'stan']\n",
      "\n",
      "items start through the rest of the list: ['george', 'julie', 'stan', 'martha', 'leo']\n",
      "\n",
      "items from the beginning through stop-1 ['bob', 'sue', 'george', 'julie', 'stan']\n",
      "\n"
     ]
    }
   ],
   "source": [
    "# Source: https://stackoverflow.com/questions/509211/understanding-slice-notation\n",
    "\n",
    "names = [\"bob\", \"sue\", \"george\", \"julie\", \"stan\", \"martha\", \"leo\"]\n",
    "\n",
    "start = 2\n",
    "stop = 5\n",
    "step = 2\n",
    "\n",
    "print(\"original list:\", names, end='\\n\\n')\n",
    "\n",
    "print(\"items start through stop-1:\", names[start:stop], end='\\n\\n')\n",
    "\n",
    "print(\"items start through the rest of the list:\", names[start:], end='\\n\\n')\n",
    "\n",
    "print(\"items from the beginning through stop-1\", names[:stop], end='\\n\\n')"
   ]
  },
  {
   "cell_type": "markdown",
   "metadata": {
    "slideshow": {
     "slide_type": "slide"
    }
   },
   "source": [
    "So far, we've seen slices get objects one after the other. \n",
    "\n",
    "That's because the default slice **step** is 1.\n",
    "\n",
    "\n",
    "What if we wanted a larger step?"
   ]
  },
  {
   "cell_type": "code",
   "execution_count": 23,
   "metadata": {
    "slideshow": {
     "slide_type": "slide"
    }
   },
   "outputs": [
    {
     "name": "stdout",
     "output_type": "stream",
     "text": [
      "original list: ['bob', 'sue', 'george', 'julie', 'stan', 'martha', 'leo']\n",
      "\n",
      "every step-th item from beginning to end of the list: ['bob', 'george', 'stan', 'leo']\n",
      "\n",
      "every step-th item from start to stop-1: ['george', 'stan']\n",
      "\n",
      "a copy of the entire list: ['bob', 'sue', 'george', 'julie', 'stan', 'martha', 'leo']\n",
      "\n"
     ]
    }
   ],
   "source": [
    "# Source: https://stackoverflow.com/questions/509211/understanding-slice-notation\n",
    "\n",
    "names = [\"bob\", \"sue\", \"george\", \"julie\", \"stan\", \"martha\", \"leo\"]\n",
    "\n",
    "start = 2\n",
    "stop = 5\n",
    "step = 2\n",
    "\n",
    "print(\"original list:\", names, end='\\n\\n')\n",
    "\n",
    "print(\"every step-th item from beginning to end of the list:\", names[::step], end='\\n\\n')\n",
    "\n",
    "print(\"every step-th item from start to stop-1:\", names[start:stop:step], end='\\n\\n')\n",
    "\n",
    "print(\"a copy of the entire list:\", names[:], end='\\n\\n')"
   ]
  },
  {
   "cell_type": "markdown",
   "metadata": {
    "slideshow": {
     "slide_type": "slide"
    }
   },
   "source": [
    "Start, stop, and step can also be *negative*:\n",
    "\n",
    "`some_list = [\"bob\", \"sue\", \"george\", \"julie\", \"stan\", \"martha\", \"leo\"]`\n",
    "\n",
    "`# + index:     0      1       2         3       4         5       6`\n",
    "\n",
    "`# - index:    -7     -6      -5        -4      -3        -2      -1`\n",
    "\n",
    "A negative step reverses the **direction** of the slice."
   ]
  },
  {
   "cell_type": "code",
   "execution_count": 24,
   "metadata": {
    "slideshow": {
     "slide_type": "slide"
    }
   },
   "outputs": [
    {
     "name": "stdout",
     "output_type": "stream",
     "text": [
      "Get last item: leo\n",
      "\n",
      "First two items, reversed: ['sue', 'bob']\n",
      "\n",
      "Last two items, reversed: ['leo', 'martha']\n",
      "\n",
      "Everything except the last two items, reversed: ['stan', 'julie', 'george', 'sue', 'bob']\n",
      "\n"
     ]
    }
   ],
   "source": [
    "some_list = [\"bob\", \"sue\", \"george\", \"julie\", \"stan\", \"martha\", \"leo\"]\n",
    "\n",
    "print(\"Get last item:\", some_list[-1], end='\\n\\n')\n",
    "\n",
    "print(\"First two items, reversed:\", some_list[1::-1], end='\\n\\n')\n",
    "\n",
    "print(\"Last two items, reversed:\", some_list[:-3:-1], end='\\n\\n')\n",
    "\n",
    "print(\"Everything except the last two items, reversed:\", some_list[-3::-1], end='\\n\\n')"
   ]
  },
  {
   "cell_type": "markdown",
   "metadata": {
    "slideshow": {
     "slide_type": "notes"
    }
   },
   "source": [
    "2. Start at index 1 (second item), slice in reverse until begininning of list is reached\n",
    "\n",
    "3. Start at end of list, slice in reverse until index -3 (exclusive) is reached\n",
    "\n",
    "4. Start at index -3 (third last item), slice in reverse until beginning of list is reached"
   ]
  },
  {
   "cell_type": "markdown",
   "metadata": {
    "slideshow": {
     "slide_type": "notes"
    }
   },
   "source": [
    "Slices are very powerful, but can be hard to read at first.\n",
    "\n",
    "Start by checking the sign of step (positive by default), then you'll know if `start->end-1` is forward or reverse through the sequence"
   ]
  },
  {
   "cell_type": "markdown",
   "metadata": {
    "slideshow": {
     "slide_type": "slide"
    }
   },
   "source": [
    "What if the subset you need is based on some true/false condition?"
   ]
  },
  {
   "cell_type": "markdown",
   "metadata": {
    "slideshow": {
     "slide_type": "notes"
    }
   },
   "source": [
    "Slices won't help you here...\n",
    "\n",
    "THIS IS A BONUS TOPIC -- Skip if time is running out!"
   ]
  },
  {
   "cell_type": "markdown",
   "metadata": {
    "slideshow": {
     "slide_type": "fragment"
    }
   },
   "source": [
    "Use a comprehension: \n",
    "\n",
    "`subset = [ <item> for <item> in <sequence> if <condition> ]`\n",
    "\n",
    "`subset = { <key>:<val> for <key> in <dict> if <condition> }`"
   ]
  },
  {
   "cell_type": "code",
   "execution_count": 25,
   "metadata": {
    "slideshow": {
     "slide_type": "slide"
    }
   },
   "outputs": [
    {
     "name": "stdout",
     "output_type": "stream",
     "text": [
      "['bob', 'sue', 'leo']\n"
     ]
    }
   ],
   "source": [
    "names = [\"bob\", \"sue\", \"george\", \"julie\", \"stan\", \"martha\", \"leo\"]\n",
    "\n",
    "# get all three-letter names\n",
    "three_letter_names = [name for name in names if len(name) == 3]\n",
    "\n",
    "print(three_letter_names)"
   ]
  },
  {
   "cell_type": "code",
   "execution_count": 26,
   "metadata": {
    "slideshow": {
     "slide_type": "fragment"
    }
   },
   "outputs": [
    {
     "name": "stdout",
     "output_type": "stream",
     "text": [
      "{'bob': 3, 'sue': 3, 'george': 6, 'julie': 5, 'stan': 4, 'martha': 6, 'leo': 3}\n"
     ]
    }
   ],
   "source": [
    "names = [\"bob\", \"sue\", \"george\", \"julie\", \"stan\", \"martha\", \"leo\"]\n",
    "\n",
    "# map names to their lengths\n",
    "names_and_lengths = { name : len(name) for name in names }\n",
    "\n",
    "print(names_and_lengths)"
   ]
  },
  {
   "cell_type": "markdown",
   "metadata": {
    "slideshow": {
     "slide_type": "slide"
    }
   },
   "source": [
    "# Strings"
   ]
  },
  {
   "cell_type": "markdown",
   "metadata": {
    "slideshow": {
     "slide_type": "slide"
    }
   },
   "source": [
    "# Strings\n",
    "\n",
    "## Task: String formatting"
   ]
  },
  {
   "cell_type": "markdown",
   "metadata": {
    "slideshow": {
     "slide_type": "notes"
    }
   },
   "source": [
    "Let's assume we have several variables we want to print at once"
   ]
  },
  {
   "cell_type": "markdown",
   "metadata": {
    "slideshow": {
     "slide_type": "slide"
    }
   },
   "source": [
    "# Task: String formatting\n",
    "\n",
    "## Approach 1\n",
    "\n",
    "Concatenate each string with `+`"
   ]
  },
  {
   "cell_type": "code",
   "execution_count": 27,
   "metadata": {
    "slideshow": {
     "slide_type": "fragment"
    }
   },
   "outputs": [
    {
     "name": "stdout",
     "output_type": "stream",
     "text": [
      "The quick brown fox jumps over the lazy dog\n"
     ]
    }
   ],
   "source": [
    "animal_1 = \"fox\"\n",
    "animal_2 = \"dog\"\n",
    "\n",
    "print(\"The quick brown \" + animal_1 + \" jumps over the lazy \" + animal_2)"
   ]
  },
  {
   "cell_type": "markdown",
   "metadata": {
    "slideshow": {
     "slide_type": "notes"
    }
   },
   "source": [
    "This approach is fine for a couple of strings, but inefficient when many strings need to be combined. More on this later..."
   ]
  },
  {
   "cell_type": "markdown",
   "metadata": {
    "slideshow": {
     "slide_type": "slide"
    }
   },
   "source": [
    "\n",
    "# Task: String formatting\n",
    "\n",
    "## Approach 2\n",
    "\n",
    "Use a string formatting mechanism"
   ]
  },
  {
   "cell_type": "code",
   "execution_count": 28,
   "metadata": {
    "slideshow": {
     "slide_type": "fragment"
    }
   },
   "outputs": [
    {
     "name": "stdout",
     "output_type": "stream",
     "text": [
      "The quick brown fox jumps over the lazy dog\n",
      "The quick brown fox jumps over the lazy dog\n",
      "The quick brown fox jumps over the lazy dog\n"
     ]
    }
   ],
   "source": [
    "# There are a few options depending on which version of Python you're running\n",
    "\n",
    "animal_1 = \"fox\"\n",
    "animal_2 = \"dog\"\n",
    "\n",
    "# %-formatting (Python 2.6+)\n",
    "print(\"The quick brown %s jumps over the lazy %s\" % (animal_1, animal_2))\n",
    "\n",
    "# str.format() (Python 2.6+)\n",
    "print(\"The quick brown {} jumps over the lazy {}\".format(animal_1, animal_2))\n",
    "\n",
    "# f-strings (Python 3.6+)\n",
    "print(f\"The quick brown {animal_1} jumps over the lazy {animal_2}\")"
   ]
  },
  {
   "cell_type": "markdown",
   "metadata": {
    "slideshow": {
     "slide_type": "notes"
    }
   },
   "source": [
    "Many formatting options exist (google \"Python format specifiers\"), but they deserve their own presentation."
   ]
  },
  {
   "cell_type": "markdown",
   "metadata": {
    "slideshow": {
     "slide_type": "slide"
    }
   },
   "source": [
    "# Strings\n",
    "\n",
    "## Task: Handling multiline strings"
   ]
  },
  {
   "cell_type": "markdown",
   "metadata": {
    "slideshow": {
     "slide_type": "slide"
    }
   },
   "source": [
    "# Task: Handling multiline strings\n",
    "\n",
    "## Approach 1\n",
    "\n",
    "Manually escape each newline"
   ]
  },
  {
   "cell_type": "markdown",
   "metadata": {
    "slideshow": {
     "slide_type": "notes"
    }
   },
   "source": [
    "By escape, I mean using a special character to represent a newline.\n",
    "\n",
    "In Python, the backslash character denotes the start of an escape sequence for some character."
   ]
  },
  {
   "cell_type": "code",
   "execution_count": 29,
   "metadata": {
    "slideshow": {
     "slide_type": "fragment"
    }
   },
   "outputs": [
    {
     "name": "stdout",
     "output_type": "stream",
     "text": [
      "This is a \n",
      "multiline string!\n"
     ]
    }
   ],
   "source": [
    "some_string = \"This is a \\nmultiline string!\" # could also use io.linesep instead of \\n\n",
    "\n",
    "print(some_string)"
   ]
  },
  {
   "cell_type": "markdown",
   "metadata": {
    "slideshow": {
     "slide_type": "notes"
    }
   },
   "source": [
    "Escaped characters can make the original string hard to read."
   ]
  },
  {
   "cell_type": "markdown",
   "metadata": {
    "slideshow": {
     "slide_type": "slide"
    }
   },
   "source": [
    "# Task: Handling multiline strings\n",
    "\n",
    "## Approach 2\n",
    "\n",
    "Use `\"\"\" triple quotes \"\"\"` to preserve newlines"
   ]
  },
  {
   "cell_type": "code",
   "execution_count": 30,
   "metadata": {
    "slideshow": {
     "slide_type": "fragment"
    }
   },
   "outputs": [
    {
     "name": "stdout",
     "output_type": "stream",
     "text": [
      "This is a\n",
      "multiline string!\n"
     ]
    }
   ],
   "source": [
    "some_string = \"\"\"This is a\n",
    "multiline string!\"\"\"\n",
    "\n",
    "print(some_string)"
   ]
  },
  {
   "cell_type": "markdown",
   "metadata": {
    "slideshow": {
     "slide_type": "notes"
    }
   },
   "source": [
    "This is useful when you need to preserve the newlines in a large multiline string."
   ]
  },
  {
   "cell_type": "markdown",
   "metadata": {
    "slideshow": {
     "slide_type": "slide"
    }
   },
   "source": [
    "# Strings\n",
    "\n",
    "## Task: Escaping backslashes"
   ]
  },
  {
   "cell_type": "markdown",
   "metadata": {
    "slideshow": {
     "slide_type": "notes"
    }
   },
   "source": [
    "This is a very common task when working with Windows file paths."
   ]
  },
  {
   "cell_type": "markdown",
   "metadata": {
    "slideshow": {
     "slide_type": "slide"
    }
   },
   "source": [
    "# Task: Escaping backslashes\n",
    "\n",
    "## Approach 1\n",
    "\n",
    "Manually escape each backslash character"
   ]
  },
  {
   "cell_type": "markdown",
   "metadata": {
    "slideshow": {
     "slide_type": "notes"
    }
   },
   "source": [
    "Recall that `\\` begins an escape sequence. So, `\\\\` escapes a single backslash."
   ]
  },
  {
   "cell_type": "code",
   "execution_count": 31,
   "metadata": {
    "slideshow": {
     "slide_type": "fragment"
    }
   },
   "outputs": [
    {
     "name": "stdout",
     "output_type": "stream",
     "text": [
      "Opening C:\\path\to\\my\f",
      "ile\n",
      "\n",
      "Opening C:\\path\\to\\my\\file\n"
     ]
    }
   ],
   "source": [
    "path_unescaped = \"C:\\path\\to\\my\\file\" # backslashes aren't escaped (why doesn't this work?)\n",
    "\n",
    "path_escaped = \"C:\\\\path\\\\to\\\\my\\\\file\" # backslashes are escaped\n",
    "\n",
    "print(f\"Opening {path_unescaped}\")\n",
    "print()\n",
    "print(f\"Opening {path_escaped}\")\n",
    "\n",
    "\n",
    "# with open(path) as my_file:\n",
    "#    do stuff"
   ]
  },
  {
   "cell_type": "markdown",
   "metadata": {
    "slideshow": {
     "slide_type": "slide"
    }
   },
   "source": [
    "# Task: Escaping backslashes\n",
    "\n",
    "## Approach 2\n",
    "\n",
    "Use a raw string"
   ]
  },
  {
   "cell_type": "code",
   "execution_count": 32,
   "metadata": {
    "slideshow": {
     "slide_type": "fragment"
    }
   },
   "outputs": [
    {
     "name": "stdout",
     "output_type": "stream",
     "text": [
      "Opening C:\\path\\to\\my\\file\n"
     ]
    }
   ],
   "source": [
    "path = r\"C:\\path\\to\\my\\file\" # an r-prefix indicates a raw string\n",
    "\n",
    "print(f\"Opening {path}\")"
   ]
  },
  {
   "cell_type": "markdown",
   "metadata": {
    "slideshow": {
     "slide_type": "notes"
    }
   },
   "source": [
    "Raw strings treat backslashes as literal characters."
   ]
  },
  {
   "cell_type": "markdown",
   "metadata": {
    "slideshow": {
     "slide_type": "slide"
    }
   },
   "source": [
    "# Strings\n",
    "\n",
    "## Task: Joining strings"
   ]
  },
  {
   "cell_type": "markdown",
   "metadata": {
    "slideshow": {
     "slide_type": "slide"
    }
   },
   "source": [
    "# Task: Joining strings\n",
    "\n",
    "## Approach 1\n",
    "\n",
    "Use the `+` operator"
   ]
  },
  {
   "cell_type": "markdown",
   "metadata": {
    "slideshow": {
     "slide_type": "notes"
    }
   },
   "source": [
    "Similar to the String Formatting task, except let's assume we are only dealing with strings and not a mix of strings, ints, and other objects."
   ]
  },
  {
   "cell_type": "code",
   "execution_count": 33,
   "metadata": {
    "slideshow": {
     "slide_type": "fragment"
    }
   },
   "outputs": [
    {
     "name": "stdout",
     "output_type": "stream",
     "text": [
      "Bilbo Baggins\n"
     ]
    }
   ],
   "source": [
    "first_name = \"Bilbo\"\n",
    "last_name = \"Baggins\"\n",
    "\n",
    "full_name = first_name + \" \" + last_name\n",
    "\n",
    "print(full_name)"
   ]
  },
  {
   "cell_type": "markdown",
   "metadata": {
    "slideshow": {
     "slide_type": "notes"
    }
   },
   "source": [
    "This approach is fine for a few strings, but can cause performance issues with large numbers of strings"
   ]
  },
  {
   "cell_type": "markdown",
   "metadata": {
    "slideshow": {
     "slide_type": "slide"
    }
   },
   "source": [
    "# Task: Joining strings\n",
    "\n",
    "## Approach 2\n",
    "\n",
    "Use `''.join()`"
   ]
  },
  {
   "cell_type": "code",
   "execution_count": 34,
   "metadata": {
    "slideshow": {
     "slide_type": "fragment"
    }
   },
   "outputs": [
    {
     "name": "stdout",
     "output_type": "stream",
     "text": [
      "Bilbo Baggins\n"
     ]
    }
   ],
   "source": [
    "first_name = \"Bilbo\"\n",
    "last_name = \"Baggins\"\n",
    "\n",
    "full_name = ' '.join((first_name, last_name))\n",
    "\n",
    "print(full_name)"
   ]
  },
  {
   "cell_type": "markdown",
   "metadata": {
    "slideshow": {
     "slide_type": "slide"
    }
   },
   "source": [
    "When is it time to use `''.join()` instead of `+`?"
   ]
  },
  {
   "cell_type": "markdown",
   "metadata": {
    "slideshow": {
     "slide_type": "notes"
    }
   },
   "source": [
    "Explain the setup below:\n",
    "\n",
    "We will test the concat and join methods with the same list of strings as it gets larger each time."
   ]
  },
  {
   "cell_type": "code",
   "execution_count": 35,
   "metadata": {
    "slideshow": {
     "slide_type": "slide"
    }
   },
   "outputs": [
    {
     "name": "stdout",
     "output_type": "stream",
     "text": [
      "testing with 1 concats and joins (time in seconds):\n",
      "1.000000000139778e-06\n",
      "1.000000000139778e-06\n",
      "\n",
      "testing with 10 concats and joins (time in seconds):\n",
      "2.700000000022129e-06\n",
      "1.2000000002565514e-06\n",
      "\n",
      "testing with 100 concats and joins (time in seconds):\n",
      "4.500000000007276e-05\n",
      "2.700000000022129e-06\n",
      "\n"
     ]
    }
   ],
   "source": [
    "from timeit import Timer # used to time executions\n",
    "\n",
    "\n",
    "test_rounds = [ 1, 10, 100 ]\n",
    "\n",
    "for n in test_rounds:\n",
    "    print(f\"testing with {n} concats and joins (time in seconds):\")\n",
    "    \n",
    "    list_of_strings = [\"Hello world!\"] * n\n",
    "    \n",
    "    time_concat = Timer(stmt = \"for x in list_of_strings: s += x\", setup='s = \"\"', globals=globals()).timeit(1)\n",
    "    print(time_concat)\n",
    "\n",
    "    time_join = Timer(stmt = \"s = ''.join(list_of_strings)\", setup='s = \"\"', globals=globals()).timeit(1)\n",
    "    print(time_join)\n",
    "    \n",
    "    print()"
   ]
  },
  {
   "cell_type": "markdown",
   "metadata": {
    "slideshow": {
     "slide_type": "notes"
    }
   },
   "source": [
    "For 1-10 strings, the join and concat times are pretty close (on the same order of magnitude).\n",
    "\n",
    "For 100 strings, the join is about 10x faster than concat. Let's see if that trend continues for many strings."
   ]
  },
  {
   "cell_type": "code",
   "execution_count": 36,
   "metadata": {
    "slideshow": {
     "slide_type": "slide"
    }
   },
   "outputs": [
    {
     "name": "stdout",
     "output_type": "stream",
     "text": [
      "testing with 10000 concats and joins (time in seconds):\n",
      "0.002031800000000139\n",
      "9.790000000009513e-05\n",
      "\n",
      "testing with 100000 concats and joins (time in seconds):\n",
      "0.043153499999999845\n",
      "0.0011418000000000816\n",
      "\n",
      "testing with 1000000 concats and joins (time in seconds):\n",
      "9.1315457\n",
      "0.011656399999999678\n",
      "\n"
     ]
    }
   ],
   "source": [
    "test_rounds = [ 10000, 100000, 1000000 ]\n",
    "\n",
    "for n in test_rounds:\n",
    "    print(f\"testing with {n} concats and joins (time in seconds):\")\n",
    "    \n",
    "    list_of_strings = [\"Hello world!\"] * n  # creates a list of n strings\n",
    "    \n",
    "    time_concat = Timer(stmt = \"for x in list_of_strings: s += x\", setup='s = \"\"', globals=globals()).timeit(1)\n",
    "    print(time_concat)\n",
    "\n",
    "    time_join = Timer(stmt = \"s = ''.join(list_of_strings)\", setup='s = \"\"', globals=globals()).timeit(1)\n",
    "    print(time_join)\n",
    "    \n",
    "    print()"
   ]
  },
  {
   "cell_type": "markdown",
   "metadata": {
    "slideshow": {
     "slide_type": "notes"
    }
   },
   "source": [
    "Takeaway:\n",
    "\n",
    "< 100: negligible\n",
    "\n",
    "\\> 100: `''.join()` is much faster than `+`"
   ]
  },
  {
   "cell_type": "markdown",
   "metadata": {
    "slideshow": {
     "slide_type": "slide"
    }
   },
   "source": [
    "# Thank you!"
   ]
  }
 ],
 "metadata": {
  "celltoolbar": "Slideshow",
  "kernelspec": {
   "display_name": "Python 3",
   "language": "python",
   "name": "python3"
  },
  "language_info": {
   "codemirror_mode": {
    "name": "ipython",
    "version": 3
   },
   "file_extension": ".py",
   "mimetype": "text/x-python",
   "name": "python",
   "nbconvert_exporter": "python",
   "pygments_lexer": "ipython3",
   "version": "3.7.1"
  }
 },
 "nbformat": 4,
 "nbformat_minor": 2
}
