{
 "cells": [
  {
   "cell_type": "markdown",
   "metadata": {
    "slideshow": {
     "slide_type": "slide"
    }
   },
   "source": [
    "# Python Idioms"
   ]
  },
  {
   "cell_type": "markdown",
   "metadata": {
    "slideshow": {
     "slide_type": "slide"
    }
   },
   "source": [
    "# Introduction\n"
   ]
  },
  {
   "cell_type": "markdown",
   "metadata": {
    "slideshow": {
     "slide_type": "notes"
    }
   },
   "source": [
    "1. Introduce yourself\n",
    "\n",
    "2. What is an idiom?\n",
    "\n",
    "Segue into what an idiom is. In language, an idiom is like a saying or figure of speech."
   ]
  },
  {
   "cell_type": "markdown",
   "metadata": {
    "slideshow": {
     "slide_type": "slide"
    }
   },
   "source": [
    "## What is an idiom?"
   ]
  },
  {
   "cell_type": "markdown",
   "metadata": {
    "slideshow": {
     "slide_type": "fragment"
    }
   },
   "source": [
    "#### *\"...the usual way to code a task in a specific language.\"*\n",
    "\n",
    "Source: https://stackoverflow.com/questions/302459/what-is-a-programming-idiom"
   ]
  },
  {
   "cell_type": "markdown",
   "metadata": {
    "slideshow": {
     "slide_type": "slide"
    }
   },
   "source": [
    "# Convention: Two Approaches"
   ]
  },
  {
   "cell_type": "markdown",
   "metadata": {
    "slideshow": {
     "slide_type": "fragment"
    }
   },
   "source": [
    "## Approach 1: basic solution"
   ]
  },
  {
   "cell_type": "markdown",
   "metadata": {
    "slideshow": {
     "slide_type": "fragment"
    }
   },
   "source": [
    "## Approach 2: \"pythonic\" solution"
   ]
  },
  {
   "cell_type": "markdown",
   "metadata": {
    "slideshow": {
     "slide_type": "notes"
    }
   },
   "source": [
    "It's not wrong to use Approach 1!"
   ]
  },
  {
   "cell_type": "markdown",
   "metadata": {
    "slideshow": {
     "slide_type": "slide"
    }
   },
   "source": [
    "Both approaches achieve the same goal..."
   ]
  },
  {
   "cell_type": "markdown",
   "metadata": {
    "slideshow": {
     "slide_type": "fragment"
    }
   },
   "source": [
    "...but using Approach 2 may"
   ]
  },
  {
   "cell_type": "markdown",
   "metadata": {
    "slideshow": {
     "slide_type": "fragment"
    }
   },
   "source": [
    "- improve readability"
   ]
  },
  {
   "cell_type": "markdown",
   "metadata": {
    "slideshow": {
     "slide_type": "fragment"
    }
   },
   "source": [
    "- save time (programming time and running time)"
   ]
  },
  {
   "cell_type": "markdown",
   "metadata": {
    "slideshow": {
     "slide_type": "fragment"
    }
   },
   "source": [
    "- earn hacker cred 😎"
   ]
  },
  {
   "cell_type": "markdown",
   "metadata": {
    "slideshow": {
     "slide_type": "slide"
    }
   },
   "source": [
    "# Topics (TODO: make sure topics are accurate)"
   ]
  },
  {
   "cell_type": "markdown",
   "metadata": {
    "slideshow": {
     "slide_type": "fragment"
    }
   },
   "source": [
    "Variables"
   ]
  },
  {
   "cell_type": "markdown",
   "metadata": {
    "slideshow": {
     "slide_type": "fragment"
    }
   },
   "source": [
    "Collections"
   ]
  },
  {
   "cell_type": "markdown",
   "metadata": {
    "slideshow": {
     "slide_type": "fragment"
    }
   },
   "source": [
    "Strings"
   ]
  },
  {
   "cell_type": "markdown",
   "metadata": {
    "slideshow": {
     "slide_type": "notes"
    }
   },
   "source": [
    "In each topic, I'll introduce a common task and show each Approach."
   ]
  },
  {
   "cell_type": "markdown",
   "metadata": {
    "slideshow": {
     "slide_type": "slide"
    }
   },
   "source": [
    "## Variables"
   ]
  },
  {
   "cell_type": "markdown",
   "metadata": {
    "slideshow": {
     "slide_type": "fragment"
    }
   },
   "source": [
    "### Task: Unpacking a sequence"
   ]
  },
  {
   "cell_type": "markdown",
   "metadata": {
    "slideshow": {
     "slide_type": "slide"
    }
   },
   "source": [
    "## Task: Unpacking a sequence\n",
    "\n",
    "### Approach 1\n",
    "\n",
    "Use the index operator repeatedly"
   ]
  },
  {
   "cell_type": "code",
   "execution_count": 1,
   "metadata": {
    "slideshow": {
     "slide_type": "fragment"
    }
   },
   "outputs": [],
   "source": [
    "lst = ['a', 'b', 'c', 'd']    # ordered, mutable collection\n",
    "\n",
    "foo = lst[0]\n",
    "bar = lst[1]\n",
    "baz = lst[-1] # negative means reverse"
   ]
  },
  {
   "cell_type": "markdown",
   "metadata": {
    "slideshow": {
     "slide_type": "notes"
    }
   },
   "source": [
    "Question: What are the values of each variable going to be?"
   ]
  },
  {
   "cell_type": "code",
   "execution_count": 2,
   "metadata": {
    "scrolled": true,
    "slideshow": {
     "slide_type": "fragment"
    }
   },
   "outputs": [
    {
     "name": "stdout",
     "output_type": "stream",
     "text": [
      "a b d\n"
     ]
    }
   ],
   "source": [
    "print(foo, bar, baz)"
   ]
  },
  {
   "cell_type": "markdown",
   "metadata": {
    "slideshow": {
     "slide_type": "notes"
    }
   },
   "source": [
    "This works fine for a few elements, but what if you want many elements?"
   ]
  },
  {
   "cell_type": "markdown",
   "metadata": {
    "slideshow": {
     "slide_type": "slide"
    }
   },
   "source": [
    "## Task: Unpacking a sequence\n",
    "\n",
    "### Approach 2\n",
    "\n",
    "Use _ to discard unwanted elements"
   ]
  },
  {
   "cell_type": "code",
   "execution_count": 3,
   "metadata": {
    "slideshow": {
     "slide_type": "fragment"
    }
   },
   "outputs": [],
   "source": [
    "del foo, bar, baz # remove variables from namespace\n",
    "\n",
    "foo, bar, _, baz = lst # ignore the elements after second and before last"
   ]
  },
  {
   "cell_type": "code",
   "execution_count": 4,
   "metadata": {
    "slideshow": {
     "slide_type": "fragment"
    }
   },
   "outputs": [
    {
     "name": "stdout",
     "output_type": "stream",
     "text": [
      "a b d\n",
      "c\n"
     ]
    }
   ],
   "source": [
    "print(foo, bar, baz)\n",
    "\n",
    "print(_)"
   ]
  },
  {
   "cell_type": "markdown",
   "metadata": {
    "slideshow": {
     "slide_type": "notes"
    }
   },
   "source": [
    "More accurately, the \"ignored\" value is assigned to \\_. You can use it just like any other variable, technically."
   ]
  },
  {
   "cell_type": "markdown",
   "metadata": {
    "slideshow": {
     "slide_type": "slide"
    }
   },
   "source": [
    "What if you want to unpack single and multiple elements?"
   ]
  },
  {
   "cell_type": "code",
   "execution_count": 5,
   "metadata": {
    "slideshow": {
     "slide_type": "fragment"
    }
   },
   "outputs": [],
   "source": [
    "del foo, bar, baz # remove objects from namespace\n",
    "\n",
    "foo, *bar, baz = lst # unpack single elements and ranges within lst"
   ]
  },
  {
   "cell_type": "code",
   "execution_count": 6,
   "metadata": {
    "slideshow": {
     "slide_type": "fragment"
    }
   },
   "outputs": [
    {
     "name": "stdout",
     "output_type": "stream",
     "text": [
      "a d\n",
      "['b', 'c']\n"
     ]
    },
    {
     "data": {
      "text/plain": [
       "list"
      ]
     },
     "execution_count": 6,
     "metadata": {},
     "output_type": "execute_result"
    }
   ],
   "source": [
    "print(foo, baz)\n",
    "\n",
    "print(bar)\n",
    "\n",
    "type(bar)"
   ]
  },
  {
   "cell_type": "markdown",
   "metadata": {
    "slideshow": {
     "slide_type": "slide"
    }
   },
   "source": [
    "To unpack multiple values,\n",
    "\n",
    "- Use the \\* operator for sequences of elements (e.g. lists)\n",
    "\n",
    "- Use the \\*\\* operator for sequences of name-value pairs (e.g. dictionaries)"
   ]
  },
  {
   "cell_type": "markdown",
   "metadata": {
    "slideshow": {
     "slide_type": "slide"
    }
   },
   "source": [
    "# Variables\n",
    "\n",
    "## Task: Swapping two values"
   ]
  },
  {
   "cell_type": "markdown",
   "metadata": {
    "slideshow": {
     "slide_type": "slide"
    }
   },
   "source": [
    "# Task: Swapping two values\n",
    "\n",
    "## Approach 1\n",
    "\n",
    "Use a temporary variable"
   ]
  },
  {
   "cell_type": "code",
   "execution_count": 7,
   "metadata": {
    "slideshow": {
     "slide_type": "fragment"
    }
   },
   "outputs": [],
   "source": [
    "a, b = 1, 2\n",
    "\n",
    "temp = a\n",
    "a    = b\n",
    "b    = temp"
   ]
  },
  {
   "cell_type": "code",
   "execution_count": 8,
   "metadata": {
    "slideshow": {
     "slide_type": "fragment"
    }
   },
   "outputs": [
    {
     "name": "stdout",
     "output_type": "stream",
     "text": [
      "2 1\n"
     ]
    }
   ],
   "source": [
    "print(a, b)"
   ]
  },
  {
   "cell_type": "markdown",
   "metadata": {
    "slideshow": {
     "slide_type": "slide"
    }
   },
   "source": [
    "# Task: Swapping two values\n",
    "\n",
    "## Approach 2\n",
    "\n",
    "Unpack the variables in reverse"
   ]
  },
  {
   "cell_type": "code",
   "execution_count": 9,
   "metadata": {
    "slideshow": {
     "slide_type": "fragment"
    }
   },
   "outputs": [],
   "source": [
    "del a, b\n",
    "\n",
    "a, b = 1, 2\n",
    "\n",
    "a, b = b, a"
   ]
  },
  {
   "cell_type": "code",
   "execution_count": 10,
   "metadata": {
    "slideshow": {
     "slide_type": "fragment"
    }
   },
   "outputs": [
    {
     "name": "stdout",
     "output_type": "stream",
     "text": [
      "2 1\n"
     ]
    }
   ],
   "source": [
    "print(a, b)"
   ]
  },
  {
   "cell_type": "markdown",
   "metadata": {
    "slideshow": {
     "slide_type": "slide"
    }
   },
   "source": [
    "# Variables\n",
    "\n",
    "## Task: Testing a single value"
   ]
  },
  {
   "cell_type": "markdown",
   "metadata": {
    "slideshow": {
     "slide_type": "slide"
    }
   },
   "source": [
    "# Task: Testing a single value\n",
    "\n",
    "## Approach 1\n",
    "\n",
    "Check for equality"
   ]
  },
  {
   "cell_type": "code",
   "execution_count": 1,
   "metadata": {
    "slideshow": {
     "slide_type": "fragment"
    }
   },
   "outputs": [
    {
     "name": "stdout",
     "output_type": "stream",
     "text": [
      "x is non-zero\n"
     ]
    }
   ],
   "source": [
    "x = 1\n",
    "\n",
    "if x != 0:\n",
    "    print('x is non-zero')\n",
    "else:\n",
    "    print('x is zero')"
   ]
  },
  {
   "cell_type": "markdown",
   "metadata": {
    "slideshow": {
     "slide_type": "slide"
    }
   },
   "source": [
    "# Task: Testing a single value\n",
    "\n",
    "## Approach 2\n",
    "\n",
    "Check the object's \"truthy/falsey\" value"
   ]
  },
  {
   "cell_type": "code",
   "execution_count": 2,
   "metadata": {
    "slideshow": {
     "slide_type": "fragment"
    }
   },
   "outputs": [
    {
     "name": "stdout",
     "output_type": "stream",
     "text": [
      "x is non-zero\n"
     ]
    }
   ],
   "source": [
    "x = 1\n",
    "\n",
    "if x:\n",
    "    print('x is non-zero')\n",
    "else:\n",
    "    print('x is zero')"
   ]
  },
  {
   "cell_type": "markdown",
   "metadata": {
    "slideshow": {
     "slide_type": "fragment"
    }
   },
   "source": [
    "\"*By default, an object is considered true unless its class defines either a `__bool__()` method that returns False or a `__len__()` method that returns zero, when called with the object.*\"\n",
    "\n",
    "Source: https://docs.python.org/3/library/stdtypes.html#truth-value-testing"
   ]
  },
  {
   "cell_type": "markdown",
   "metadata": {
    "slideshow": {
     "slide_type": "slide"
    }
   },
   "source": [
    "What if you want to test a sequence?"
   ]
  },
  {
   "cell_type": "code",
   "execution_count": 13,
   "metadata": {
    "slideshow": {
     "slide_type": "fragment"
    }
   },
   "outputs": [
    {
     "name": "stdout",
     "output_type": "stream",
     "text": [
      "tup is non-empty\n"
     ]
    }
   ],
   "source": [
    "tup = (1,2,3,4) # an ordered, immutable sequence\n",
    "\n",
    "if tup: # the same as `if len(tup) != 0: ...`\n",
    "    print('tup is non-empty')\n",
    "else:\n",
    "    print('tup is empty')"
   ]
  },
  {
   "cell_type": "markdown",
   "metadata": {
    "slideshow": {
     "slide_type": "slide"
    }
   },
   "source": [
    "# Collections"
   ]
  },
  {
   "cell_type": "markdown",
   "metadata": {
    "slideshow": {
     "slide_type": "slide"
    }
   },
   "source": [
    "# Collections\n",
    "\n",
    "## Task: Testing all values in a collection"
   ]
  },
  {
   "cell_type": "markdown",
   "metadata": {
    "slideshow": {
     "slide_type": "slide"
    }
   },
   "source": [
    "# Task: Testing all values in a collection\n",
    "\n",
    "## Approach 1\n",
    "\n",
    "Use a loop"
   ]
  },
  {
   "cell_type": "code",
   "execution_count": 4,
   "metadata": {
    "slideshow": {
     "slide_type": "fragment"
    }
   },
   "outputs": [
    {
     "name": "stdout",
     "output_type": "stream",
     "text": [
      "Found a non-zero element\n"
     ]
    }
   ],
   "source": [
    "tup = (0, 0, 1, 0)\n",
    "\n",
    "found_non_zero_element = False\n",
    "\n",
    "for element in tup:\n",
    "    if element != 0:\n",
    "        print('Found a non-zero element')\n",
    "        found_non_zero_element = True\n",
    "        break\n",
    "\n",
    "if not found_non_zero_element:\n",
    "    print('tup is empty or only contains zeroes')"
   ]
  },
  {
   "cell_type": "markdown",
   "metadata": {
    "slideshow": {
     "slide_type": "slide"
    }
   },
   "source": [
    "# Task: Testing all values in a collection\n",
    "\n",
    "## Approach 2\n",
    "\n",
    "Use the `any()` function"
   ]
  },
  {
   "cell_type": "code",
   "execution_count": 55,
   "metadata": {
    "slideshow": {
     "slide_type": "fragment"
    }
   },
   "outputs": [
    {
     "name": "stdout",
     "output_type": "stream",
     "text": [
      "Found a non-zero element\n"
     ]
    }
   ],
   "source": [
    "tup = (0, 0, 1, 0)\n",
    "\n",
    "if any(tup):\n",
    "    print('Found a non-zero element')\n",
    "else:\n",
    "    print('Only zeroes in tup')"
   ]
  },
  {
   "cell_type": "markdown",
   "metadata": {
    "slideshow": {
     "slide_type": "slide"
    }
   },
   "source": [
    "Conversely, using `all()` will return true if and only if **all** elements evaluate to `True`"
   ]
  },
  {
   "cell_type": "code",
   "execution_count": 56,
   "metadata": {
    "scrolled": true,
    "slideshow": {
     "slide_type": "fragment"
    }
   },
   "outputs": [
    {
     "name": "stdout",
     "output_type": "stream",
     "text": [
      "An element in tup is zero\n"
     ]
    }
   ],
   "source": [
    "tup = (0, 0, 1, 0)\n",
    "\n",
    "if all(tup):\n",
    "    print('All elements in tup are non-zero')\n",
    "else:\n",
    "    print('An element in tup is zero')"
   ]
  },
  {
   "cell_type": "markdown",
   "metadata": {},
   "source": [
    "# Collections\n",
    "\n",
    "## Task: Enumerating a collection"
   ]
  },
  {
   "cell_type": "markdown",
   "metadata": {
    "slideshow": {
     "slide_type": "slide"
    }
   },
   "source": [
    "# Task: Enumerating a collection\n",
    "\n",
    "## Approach 1\n",
    "Use a index variable"
   ]
  },
  {
   "cell_type": "code",
   "execution_count": 16,
   "metadata": {
    "slideshow": {
     "slide_type": "fragment"
    }
   },
   "outputs": [
    {
     "name": "stdout",
     "output_type": "stream",
     "text": [
      "index : value\n",
      "0 : 7\n",
      "1 : 8\n",
      "2 : 9\n"
     ]
    }
   ],
   "source": [
    "some_list = [7, 8, 9]\n",
    "index = 0\n",
    "\n",
    "print(\"index\", \":\", \"value\")\n",
    "while index < len(some_list):\n",
    "    print(index, \":\", some_list[index])\n",
    "    index += 1"
   ]
  },
  {
   "cell_type": "markdown",
   "metadata": {
    "slideshow": {
     "slide_type": "slide"
    }
   },
   "source": [
    "# Task: Enumerating a collection\n",
    "\n",
    "## Approach 2\n",
    "Use the `enumerate()` function"
   ]
  },
  {
   "cell_type": "code",
   "execution_count": 17,
   "metadata": {
    "scrolled": true,
    "slideshow": {
     "slide_type": "fragment"
    }
   },
   "outputs": [
    {
     "name": "stdout",
     "output_type": "stream",
     "text": [
      "index : value\n",
      "0 : 7\n",
      "1 : 8\n",
      "2 : 9\n"
     ]
    }
   ],
   "source": [
    "some_list = [7, 8, 9]\n",
    "\n",
    "print(\"index\", \":\", \"value\")\n",
    "for count, value in enumerate(some_list):\n",
    "    print(count, \":\", value)\n"
   ]
  },
  {
   "cell_type": "markdown",
   "metadata": {
    "slideshow": {
     "slide_type": "fragment"
    }
   },
   "source": [
    "*\"`enumerate(thing)`, where `thing` is either an iterator or a sequence, returns a iterator that will return `(0, thing[0])`, `(1, thing[1])`, `(2, thing[2])`, and so forth.\"*\n",
    "\n",
    "Source: https://docs.python.org/2.3/whatsnew/section-enumerate.html"
   ]
  },
  {
   "cell_type": "markdown",
   "metadata": {
    "slideshow": {
     "slide_type": "slide"
    }
   },
   "source": [
    "What if you don't need an index variable?"
   ]
  },
  {
   "cell_type": "code",
   "execution_count": 20,
   "metadata": {
    "slideshow": {
     "slide_type": "fragment"
    }
   },
   "outputs": [
    {
     "name": "stdout",
     "output_type": "stream",
     "text": [
      "7\n",
      "8\n",
      "9\n"
     ]
    }
   ],
   "source": [
    "some_list = [7, 8, 9]\n",
    "\n",
    "for value in some_list:\n",
    "    print(value)"
   ]
  },
  {
   "cell_type": "markdown",
   "metadata": {
    "slideshow": {
     "slide_type": "slide"
    }
   },
   "source": [
    "# Collections\n",
    "\n",
    "## Task: Get a subset of a collection"
   ]
  },
  {
   "cell_type": "markdown",
   "metadata": {
    "slideshow": {
     "slide_type": "slide"
    }
   },
   "source": [
    "# Task: Get a subset of a collection\n",
    "\n",
    "## Approach 1\n",
    "Use a loop"
   ]
  },
  {
   "cell_type": "code",
   "execution_count": 23,
   "metadata": {
    "slideshow": {
     "slide_type": "fragment"
    }
   },
   "outputs": [
    {
     "name": "stdout",
     "output_type": "stream",
     "text": [
      "[3, 4, 5]\n"
     ]
    }
   ],
   "source": [
    "some_list = [1,2,3,4,5,6,7]\n",
    "subset = []\n",
    "\n",
    "subset_start_index = 2\n",
    "subset_end_index = 5 # exclusive\n",
    "current_index = subset_start_index\n",
    "\n",
    "while current_index < subset_end_index:\n",
    "    subset.append(some_list[current_index])\n",
    "    current_index += 1\n",
    "\n",
    "print(subset)"
   ]
  },
  {
   "cell_type": "markdown",
   "metadata": {
    "slideshow": {
     "slide_type": "slide"
    }
   },
   "source": [
    "# Task: Get a subset of a collection\n",
    "\n",
    "## Approach 1\n",
    "Slice the collection"
   ]
  },
  {
   "cell_type": "code",
   "execution_count": 31,
   "metadata": {
    "slideshow": {
     "slide_type": "fragment"
    }
   },
   "outputs": [
    {
     "name": "stdout",
     "output_type": "stream",
     "text": [
      "[3, 4, 5]\n"
     ]
    }
   ],
   "source": [
    "some_list = [1,2,3,4,5,6,7]\n",
    "subset = some_list[2:5] # equivalent to some_list[slice(2, 5)]\n",
    "\n",
    "print(subset)"
   ]
  },
  {
   "cell_type": "markdown",
   "metadata": {
    "slideshow": {
     "slide_type": "slide"
    }
   },
   "source": [
    "How do slices work?\n",
    "\n",
    "Like the `range()` function, slice accepts three parameters:\n",
    "\n",
    "- start\n",
    "- stop (exclusive)\n",
    "- step"
   ]
  },
  {
   "cell_type": "code",
   "execution_count": 45,
   "metadata": {
    "slideshow": {
     "slide_type": "fragment"
    }
   },
   "outputs": [
    {
     "name": "stdout",
     "output_type": "stream",
     "text": [
      "original list: [1, 2, 3, 4, 5, 6, 7]\n",
      "\n",
      "items start through stop-1: [3, 4, 5]\n",
      "\n",
      "items start through the rest of the list: [3, 4, 5, 6, 7]\n",
      "\n",
      "items from the beginning through stop-1 [1, 2, 3, 4, 5]\n",
      "\n",
      "every step-th item from beginning to end of the list: [1, 3, 5, 7]\n",
      "\n",
      "every step-th item from start to stop-1: [3, 5]\n",
      "\n",
      "a copy of the entire list: [1, 2, 3, 4, 5, 6, 7]\n",
      "\n"
     ]
    }
   ],
   "source": [
    "# Source: https://stackoverflow.com/questions/509211/understanding-slice-notation\n",
    "\n",
    "some_list = [1,2,3,4,5,6,7]\n",
    "\n",
    "start = 2\n",
    "stop = 5\n",
    "step = 2\n",
    "\n",
    "print(\"original list:\", some_list, end='\\n\\n')\n",
    "\n",
    "print(\"items start through stop-1:\", some_list[start:stop], end='\\n\\n')\n",
    "\n",
    "print(\"items start through the rest of the list:\", some_list[start:], end='\\n\\n')\n",
    "\n",
    "print(\"items from the beginning through stop-1\", some_list[:stop], end='\\n\\n')\n",
    "\n",
    "print(\"every step-th item from beginning to end of the list:\", some_list[::step], end='\\n\\n')\n",
    "\n",
    "print(\"every step-th item from start to stop-1:\", some_list[start:stop:step], end='\\n\\n')\n",
    "\n",
    "print(\"a copy of the entire list:\", some_list[:], end='\\n\\n')"
   ]
  },
  {
   "cell_type": "markdown",
   "metadata": {
    "slideshow": {
     "slide_type": "slide"
    }
   },
   "source": [
    "Start, stop, and step can also be *negative*:\n",
    "\n",
    "`some_list = [1, 2, 3, 4, 5, 6, 7]`\n",
    "\n",
    "`# + index:   0  1  2  3  4  5  6`\n",
    "\n",
    "`# - index:  -7 -6 -5 -4 -3 -2 -1`\n",
    "\n",
    "A negative step reverses the direction of the step."
   ]
  },
  {
   "cell_type": "code",
   "execution_count": 51,
   "metadata": {
    "slideshow": {
     "slide_type": "slide"
    }
   },
   "outputs": [
    {
     "name": "stdout",
     "output_type": "stream",
     "text": [
      "Get last item: 7\n",
      "\n",
      "First two items, reversed: [2, 1]\n",
      "\n",
      "Last two items, reversed: [7, 6]\n",
      "\n",
      "Everything except the last two items, reversed: [5, 4, 3, 2, 1]\n",
      "\n"
     ]
    }
   ],
   "source": [
    "some_list = [1, 2, 3, 4, 5, 6, 7]\n",
    "\n",
    "print(\"Get last item:\", some_list[-1], end='\\n\\n')\n",
    "\n",
    "print(\"First two items, reversed:\", some_list[1::-1], end='\\n\\n')\n",
    "\n",
    "print(\"Last two items, reversed:\", some_list[:-3:-1], end='\\n\\n')\n",
    "\n",
    "print(\"Everything except the last two items, reversed:\", some_list[-3::-1], end='\\n\\n')"
   ]
  },
  {
   "cell_type": "markdown",
   "metadata": {},
   "source": [
    "### comprehensions and generators\n",
    "    # filter with 'if' clauses"
   ]
  },
  {
   "cell_type": "markdown",
   "metadata": {},
   "source": [
    "## line continuations\n",
    "    # Backslash vs brackets\n",
    "\n",
    "## string formatting (% vs .format vs f strings)\n",
    "\n",
    "\n",
    "\n",
    "## *BONUS TOPIC: type hints\n"
   ]
  },
  {
   "cell_type": "code",
   "execution_count": null,
   "metadata": {
    "scrolled": true
   },
   "outputs": [],
   "source": [
    "[print(x,sep=' ') for x in range(10)]"
   ]
  },
  {
   "cell_type": "code",
   "execution_count": null,
   "metadata": {},
   "outputs": [],
   "source": [
    "def say_hello(recipient):\n",
    "    return 'Hello, {}!'.format(recipient)\n",
    "say_hello('Tim')"
   ]
  }
 ],
 "metadata": {
  "celltoolbar": "Slideshow",
  "kernelspec": {
   "display_name": "Python 3",
   "language": "python",
   "name": "python3"
  },
  "language_info": {
   "codemirror_mode": {
    "name": "ipython",
    "version": 3
   },
   "file_extension": ".py",
   "mimetype": "text/x-python",
   "name": "python",
   "nbconvert_exporter": "python",
   "pygments_lexer": "ipython3",
   "version": "3.7.4"
  }
 },
 "nbformat": 4,
 "nbformat_minor": 2
}
